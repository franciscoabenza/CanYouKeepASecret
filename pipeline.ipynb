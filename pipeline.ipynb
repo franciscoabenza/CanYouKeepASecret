{
 "cells": [
  {
   "cell_type": "code",
   "execution_count": 1,
   "metadata": {},
   "outputs": [
    {
     "name": "stdout",
     "output_type": "stream",
     "text": [
      "Failed to generate text. Response status code: 401\n"
     ]
    }
   ],
   "source": [
    "import requests\n",
    "\n",
    "# API endpoint for text-davinci-003\n",
    "endpoint = \"https://api.openai.com/v1/engines/text-davinci-003/jobs\"\n",
    "\n",
    "# Your API key\n",
    "api_key = \"YOUR_API_KEY\"\n",
    "\n",
    "# Input text prompt\n",
    "prompt = \"Write a story about a person who goes on a journey.\"\n",
    "\n",
    "# Request header\n",
    "headers = {\n",
    "    \"Content-Type\": \"application/json\",\n",
    "    \"Authorization\": f\"Bearer {api_key}\"\n",
    "}\n",
    "\n",
    "# Request payload\n",
    "data = {\n",
    "    \"prompt\": prompt,\n",
    "    \"max_tokens\": 1000\n",
    "}\n",
    "\n",
    "# Make a request to the API endpoint\n",
    "response = requests.post(endpoint, headers=headers, json=data)\n",
    "\n",
    "# Check if the request was successful\n",
    "if response.status_code == 200:\n",
    "    # Extract the generated text from the response\n",
    "    generated_text = response.json()[\"choices\"][0][\"text\"]\n",
    "    print(generated_text)\n",
    "else:\n",
    "    # Print an error message\n",
    "    print(\"Failed to generate text. Response status code:\", response.status_code)\n"
   ]
  },
  {
   "cell_type": "code",
   "execution_count": null,
   "metadata": {},
   "outputs": [],
   "source": []
  }
 ],
 "metadata": {
  "kernelspec": {
   "display_name": "Python 3",
   "language": "python",
   "name": "python3"
  },
  "language_info": {
   "codemirror_mode": {
    "name": "ipython",
    "version": 3
   },
   "file_extension": ".py",
   "mimetype": "text/x-python",
   "name": "python",
   "nbconvert_exporter": "python",
   "pygments_lexer": "ipython3",
   "version": "3.10.3"
  },
  "orig_nbformat": 4,
  "vscode": {
   "interpreter": {
    "hash": "aee8b7b246df8f9039afb4144a1f6fd8d2ca17a180786b69acc140d282b71a49"
   }
  }
 },
 "nbformat": 4,
 "nbformat_minor": 2
}
