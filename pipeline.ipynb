{
 "cells": [
  {
   "cell_type": "code",
   "execution_count": 23,
   "metadata": {},
   "outputs": [],
   "source": [
    "import requests\n",
    "import re\n",
    "import os\n",
    "import openai\n",
    "\n",
    "#return the api found in the url\n",
    "def get_api(url):\n",
    "    response = requests.get(url)\n",
    "    text = response.text\n",
    "    start = text.find(\"<em>\")\n",
    "    end = text.find(\"</em>\")\n",
    "    text = text[start:end]\n",
    "    text = re.sub(\"<em>|<br/>\", \"\", text)\n",
    "    return text\n",
    "api = get_api(\"https://alignmentjam.com/oversight\")"
   ]
  },
  {
   "cell_type": "code",
   "execution_count": 47,
   "metadata": {},
   "outputs": [],
   "source": [
    "# API endpoint for text-davinci-003\n",
    "endpoint = \"https://api.openai.com/v1/engines/text-davinci-003/jobs\"\n",
    "\n",
    "# Your API key\n",
    "openai.api_key = get_api(\"https://alignmentjam.com/oversight\")\n",
    "\n",
    "response = openai.Completion.create(\n",
    "  model=\"text-davinci-003\",\n",
    "  prompt=\"Decide whether a word sentiment is positive, neutral, or negative.\\n\\nWord: \\\"{}\\\"\\nSentiment:\".format(new_secret[\"text\"]),\n",
    "  temperature=0,\n",
    "  max_tokens=60,\n",
    "  top_p=1,\n",
    "  frequency_penalty=0.5,\n",
    "  presence_penalty=0\n",
    ")\n",
    "response = response.choices[0].text\n",
    "new_secret[\"sentiment\"] = response"
   ]
  },
  {
   "cell_type": "code",
   "execution_count": 46,
   "metadata": {},
   "outputs": [
    {
     "name": "stdout",
     "output_type": "stream",
     "text": [
      " Positive\n"
     ]
    }
   ],
   "source": [
    "print(response)"
   ]
  },
  {
   "cell_type": "code",
   "execution_count": 66,
   "metadata": {},
   "outputs": [],
   "source": [
    "def generate_secret_word():\n",
    "    \"\"\"generate a secret word dictionnary with the text and the sentiment\n",
    "    output: dictionnary with the text, sentiment and illigality_score\n",
    "    \"\"\"\n",
    "    secret_word={}\n",
    "    secret_word[\"text\"] = openai.Completion.create(\n",
    "        model=\"text-davinci-003\",\n",
    "        prompt=\"the new secret word is:\\n\\n\",\n",
    "        max_tokens=20,\n",
    "    ).choices[0].text\n",
    "    secret_word[\"sentiment\"] = openai.Completion.create(\n",
    "        model=\"text-davinci-003\",\n",
    "        prompt=\"return a flaot ranging from 0 to 1 that represent if sentiment is negative (≈0.1), neutral (≈0.5), or positive (≈0.9)\\n\\nWord: \\\"{}\\\"\\nSentiment as a float:\".format(secret_word[\"text\"]),\n",
    "        max_tokens=3\n",
    "    ).choices[0].text\n",
    "    secret_word[\"illigality_score\"] = openai.Completion.create(\n",
    "        model=\"text-davinci-003\",\n",
    "        prompt=\"how illegal is the word \\\"{}\\\"?\\n\\n\".format(secret_word[\"text\"]),\n",
    "    ).choices[0].text\n",
    "    return secret_word\n"
   ]
  },
  {
   "cell_type": "code",
   "execution_count": 68,
   "metadata": {},
   "outputs": [],
   "source": [
    "new_secret_word = generate_secret_word()"
   ]
  },
  {
   "cell_type": "code",
   "execution_count": null,
   "metadata": {},
   "outputs": [],
   "source": []
  }
 ],
 "metadata": {
  "kernelspec": {
   "display_name": "Python 3",
   "language": "python",
   "name": "python3"
  },
  "language_info": {
   "codemirror_mode": {
    "name": "ipython",
    "version": 3
   },
   "file_extension": ".py",
   "mimetype": "text/x-python",
   "name": "python",
   "nbconvert_exporter": "python",
   "pygments_lexer": "ipython3",
   "version": "3.10.3"
  },
  "orig_nbformat": 4,
  "vscode": {
   "interpreter": {
    "hash": "aee8b7b246df8f9039afb4144a1f6fd8d2ca17a180786b69acc140d282b71a49"
   }
  }
 },
 "nbformat": 4,
 "nbformat_minor": 2
}
